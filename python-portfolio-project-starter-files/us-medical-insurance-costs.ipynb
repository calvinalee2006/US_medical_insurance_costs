{
 "cells": [
  {
   "cell_type": "markdown",
   "metadata": {},
   "source": [
    "# U.S. Medical Insurance Costs"
   ]
  },
  {
   "cell_type": "code",
   "execution_count": 37,
   "metadata": {},
   "outputs": [],
   "source": [
    "\n",
    "# 1. One way to print data using pandas\n",
    "\n",
    "import pandas as pd\n",
    "\n",
    "insurance_df = pd.read_csv('insurance.csv')\n",
    "\n",
    "insurance_df.columns = ['age','sex','bmi','children','smoker','region','charges']\n",
    "\n",
    "\n",
    "# print(insurance_df)"
   ]
  },
  {
   "cell_type": "code",
   "execution_count": 47,
   "metadata": {},
   "outputs": [],
   "source": [
    "import pandas as pd\n",
    "\n",
    "insurance_df = pd.read_csv('insurance.csv')\n",
    "\n",
    "def female_list(insurance_df): \n",
    "    f_smokers = []\n",
    "    nonf_smokers = []\n",
    "    for index, person in insurance_df.iterrows():\n",
    "        if person['sex'] == 'female' and person['smoker'] == 'yes':\n",
    "            f_smokers.append(person)\n",
    "        elif person['sex'] == 'female' and person['smoker'] == 'no': \n",
    "            nonf_smokers.append(person)\n",
    "    return f_smokers, nonf_smokers\n",
    "        \n",
    "female_smokers, female_non_smokers = female_list(insurance_df)\n",
    "\n",
    "\n",
    "\n",
    "# print(\"Female smokers:\")\n",
    "# for person in female_smokers:\n",
    "#     print(person)\n",
    "\n",
    "# print(\"non-smokers:\")\n",
    "# for person in female_non_smokers:\n",
    "#     print(person)"
   ]
  },
  {
   "cell_type": "code",
   "execution_count": 95,
   "metadata": {},
   "outputs": [
    {
     "name": "stdout",
     "output_type": "stream",
     "text": [
      "There are 7 women who smoke, live in the northwest, have no children and are under the age of 50 used in the data.\n"
     ]
    }
   ],
   "source": [
    "#  This list is for women smokers who live in the northwest, under the age of 50, and have no children\n",
    "\n",
    "for person in female_smokers: \n",
    "    if person['age'] < 50 and person['region'] == 'northwest'and person['children'] == 0:\n",
    "        num_people = len(person)\n",
    "     \n",
    "print(\"There are\", num_people, \"women who smoke, live in the northwest, have no children and are under the age of 50 used in the data.\")\n"
   ]
  },
  {
   "cell_type": "code",
   "execution_count": 94,
   "metadata": {},
   "outputs": [
    {
     "name": "stdout",
     "output_type": "stream",
     "text": [
      "Average price of insurance for these 7 women who smoke, are under the age of 50, have no children and live in the northwest would be 27796.15 a year!\n"
     ]
    }
   ],
   "source": [
    "total = 0\n",
    "count = 0\n",
    "\n",
    "for person in female_smokers:\n",
    "    if person['age'] < 50 and person['region'] == 'northwest' and person['children'] == 0:\n",
    "        price = person['charges']\n",
    "        total += price\n",
    "        count += 1\n",
    "\n",
    "if count != 0:\n",
    "    average = total / count\n",
    "    print('Average price of insurance for these 7 women who smoke, are under the age of 50, have no children and live in the northwest would be', round(average,2), 'a year!')\n",
    "else:\n",
    "    print('No eligible females found.')\n"
   ]
  },
  {
   "cell_type": "code",
   "execution_count": 118,
   "metadata": {},
   "outputs": [
    {
     "name": "stdout",
     "output_type": "stream",
     "text": [
      "There are 7 women who smoke, live in the northwest, have children used for this data\n"
     ]
    }
   ],
   "source": [
    "for person in female_smokers: \n",
    "    if person['age'] < 50 and person['region'] == 'northwest'and person['children'] >= 1:\n",
    "         num_people = len(person)\n",
    "            \n",
    "print(\"There are\", num_people, \"women who smoke, live in the northwest, and have children that were used for this data\")"
   ]
  },
  {
   "cell_type": "code",
   "execution_count": 120,
   "metadata": {},
   "outputs": [
    {
     "name": "stdout",
     "output_type": "stream",
     "text": [
      "Average price of insurance for these 7 women who smoke, are under the age of 50, have children and live in the northwest would be 29967.05 a year!\n"
     ]
    }
   ],
   "source": [
    "total = 0\n",
    "count = 0\n",
    "\n",
    "for person in female_smokers:\n",
    "    if person['age'] < 50 and person['region'] == 'northwest' and person['children'] >= 1:\n",
    "        price = person['charges']\n",
    "        total += price\n",
    "        count += 1\n",
    "\n",
    "if count != 0:\n",
    "    average = total / count\n",
    "    print('Average price of insurance for these 7 women who smoke, are under the age of 50, have children and live in the northwest would be', round(average,2), 'a year!')\n",
    "else:\n",
    "    print('No eligible females found.')\n"
   ]
  },
  {
   "cell_type": "code",
   "execution_count": 122,
   "metadata": {},
   "outputs": [
    {
     "name": "stdout",
     "output_type": "stream",
     "text": [
      " The differnce between these two types of women would be 2,170.90\n"
     ]
    }
   ],
   "source": [
    "print( \" The differnce between these two types of women would be 2,170.90\")"
   ]
  },
  {
   "cell_type": "code",
   "execution_count": null,
   "metadata": {},
   "outputs": [],
   "source": [
    "# You would be able to use this process for different statements in different regions, the only this not used is bmi"
   ]
  }
 ],
 "metadata": {
  "kernelspec": {
   "display_name": "Python 3 (ipykernel)",
   "language": "python",
   "name": "python3"
  },
  "language_info": {
   "codemirror_mode": {
    "name": "ipython",
    "version": 3
   },
   "file_extension": ".py",
   "mimetype": "text/x-python",
   "name": "python",
   "nbconvert_exporter": "python",
   "pygments_lexer": "ipython3",
   "version": "3.11.4"
  }
 },
 "nbformat": 4,
 "nbformat_minor": 4
}
